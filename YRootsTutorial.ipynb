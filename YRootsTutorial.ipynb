{
 "cells": [
  {
   "cell_type": "markdown",
   "metadata": {},
   "source": [
    "<h1 align=\"center\"> YRoots Tutorial </h1>\n",
    "\n",
    "YRoots is a numerical rootfinding package that quickly and precisely finds and returns all of the real roots of a system of equations in a compact interval in $\\mathbb{R}^n$.\n",
    "\n",
    "Yroots is guaranteed to work as long as the functions entered are smooth and contiuous on the search interval and all roots in the search interval are simple and finite in number. Under these assumptions, YRoots can find and return the zeros of even complex systems of equations with several variables."
   ]
  },
  {
   "cell_type": "markdown",
   "metadata": {},
   "source": [
    "## YRoots Syntax\n",
    "\n",
    "The YRoots solver takes as input a list of functions as well as a list of lower bounds together with a list of upper bounds defining a search interval. It returns a numpy array with each row containing the coordinates (in dimesion order) of the root. The syntax for calling the solve function is as follows:\n",
    "\n",
    "```python\n",
    "yr.solve(funcs, a, b)\n",
    "```\n",
    "\n",
    "where `funcs` is a list of $n$ callable functions in $n$ variables, `a` is a list of the $n$ lower bounds in each dimension, and `b` is a list of the correspondnig $n$ upper bounds. This tutorial contains several examples that demonstrate this syntax. "
   ]
  },
  {
   "cell_type": "markdown",
   "metadata": {},
   "source": [
    "## Set up YRoots\n",
    "\n",
    "Using pip:\n",
    "  ```\n",
    "pip install git+https://github.com/tylerjarvis/RootFinding.git\n",
    "  ```\n",
    "  \n",
    "In addition, you will need to have `numpy`, `numba`, and `scipy` installed in order to run YRoots. See the documentation for the corresponding packages to learn how to install any of these.\n",
    "\n",
    "<u>Before proceeding in this tutorial, you will need to complete the above process and run the following import statements: </u>"
   ]
  },
  {
   "cell_type": "code",
   "execution_count": 3,
   "metadata": {},
   "outputs": [],
   "source": [
    "import numpy as np\n",
    "import yroots as yr"
   ]
  },
  {
   "cell_type": "markdown",
   "metadata": {},
   "source": [
    "## Example 1: Bivariate System\n",
    "Consider the following bivariate system of equations:\n",
    "\n",
    "$$0 = \\sin(xy) + x\\log(y+3) - x^2 + \\frac{1}{y-4}$$\n",
    "$$6 = \\cos(3xy) + e^{\\frac{3y}{x-2}} - x.$$\n",
    "\n",
    "Solutions of the system subject to the constrains $-1\\leq x\\leq0,-2\\leq y\\leq1$ are common roots of the functions\n",
    "\n",
    "$$f(x,y) = \\sin(xy) + x\\log(y+3) - x^2 + \\frac{1}{y-4} $$\n",
    "$$g(x,y) = \\cos(3xy) + e^{\\frac{3y}{x-2}} - x - 6 $$\n",
    "on the search domain $[-1,0]\\times[-2,1]$.\n",
    "\n",
    "To find the roots of this system, simply define the corresponding functions, lower bounds, and upper bounds in the correct format (lists or numpy arrays) and pass these as arguments to the solve function:\n",
    "\n",
    "NOTE: <u> YRoots uses just in time compiling</u>, which means that part of the code will not be compiled until a system of functions to solve is given (rather than compiling all the code upon importing the module). Therefore, <u>the very first time a system of equations of a particular dimension is passed to the solver, the compilation will take several seconds before the solver actually begins to run.</u> To see the true speed of the solver, simply run the code again. This second iteration, and any other systems of equations of the same dimension, will run at the true speed after this first compilation."
   ]
  },
  {
   "cell_type": "code",
   "execution_count": 5,
   "metadata": {},
   "outputs": [
    {
     "name": "stdout",
     "output_type": "stream",
     "text": [
      "[[-0.410034   -1.40471685]\n",
      " [-0.73720226 -1.65461673]]\n"
     ]
    }
   ],
   "source": [
    "f = lambda x,y : np.sin(x*y) + x*np.log(y+3) - x**2 + 1/(y-4)\n",
    "g = lambda x,y : np.cos(3*x*y) + np.exp(3*y/(x-2)) - x - 6\n",
    "a = [-1,-2] #lower bounds on x and y\n",
    "b = [0,1] #upper bounds on x and y\n",
    "roots = yr.solve([f,g], a, b)\n",
    "\n",
    "print(roots)"
   ]
  },
  {
   "cell_type": "markdown",
   "metadata": {},
   "source": [
    "To give a measure for the speed and accuracy of the search, the following cell of code prints the time taken for the search and the *residuals* of the roots, or the absolute difference between the actual function values at the computed roots and zero:"
   ]
  },
  {
   "cell_type": "code",
   "execution_count": 6,
   "metadata": {},
   "outputs": [
    {
     "name": "stdout",
     "output_type": "stream",
     "text": [
      "CPU times: total: 31.2 ms\n",
      "Wall time: 49 ms\n",
      "residuals for f are [2.77555756e-16 1.94289029e-16]\n",
      "residuals for g are [8.88178420e-16 2.66453526e-15]\n"
     ]
    }
   ],
   "source": [
    "%time roots = yr.solve([f,g], a, b)\n",
    "\n",
    "print('residuals for f are {}'.format(np.abs(f(roots[:,0],roots[:,1]))))\n",
    "print('residuals for g are {}'.format(np.abs(g(roots[:,0],roots[:,1]))))"
   ]
  },
  {
   "cell_type": "markdown",
   "metadata": {},
   "source": [
    "As you can see, using properties of Chebyshev polynomial interpolation, YRoots identified the two roots contained in the search interval very quickly and with near machine-epsilon precision."
   ]
  },
  {
   "cell_type": "markdown",
   "metadata": {},
   "source": [
    "## Example 2: Higher-dimensional System\n",
    "\n",
    "Consider the problem of finding roots of the following 5-dimensional system of equations on the interval $[0,2\\pi]^5$:\n",
    "\n",
    "$$\\cos(x_1) + x_5 = 1$$\n",
    "$$\\cos(x_2) + x_4 = 2$$\n",
    "$$\\cos(x_3) + x_3 = 3$$\n",
    "$$\\cos(x_4) + x_2 = 4$$\n",
    "$$\\cos(x_5) + x_1 = 5$$\n",
    "\n",
    "Go ahead and test out the solver on this system of equations using the code below. The time taken and maximum residual value will also be printed.\n",
    "\n",
    "Note also that for this problem, we have set the `verbose` option of the solver to True. This can be useful to track the progress of approximation and rootfinding, especially with systems of equations that are high-dimensional or more complex. You will see that short statements are outputted to the terminal, indicating the approximation results, the search interval, and the number of roots found.\n",
    "\n",
    "NOTE: Since this is the first time we are working in this new dimension (dimension 5) in this notebook, the solver will need to compile new code before it can solve the problem, which will take several seconds. To see the true speed of the solver on this problem, simply rerun the code after the first iteration finishes."
   ]
  },
  {
   "cell_type": "code",
   "execution_count": 8,
   "metadata": {},
   "outputs": [
    {
     "name": "stdout",
     "output_type": "stream",
     "text": [
      "Approximation shapes: 0: (21, 1, 1, 1, 2) 1: (1, 21, 1, 2, 1) 2: (1, 1, 21, 1, 1) 3: (1, 4, 1, 21, 1) 4: (2, 1, 1, 1, 21)\n",
      "Searching on interval [[0, 6.283185307179586], [0, 6.283185307179586], [0, 6.283185307179586], [0, 6.283185307179586], [0, 6.283185307179586]]\n",
      "Finding roots... *\n",
      "Found 1 root\n",
      "\n",
      "CPU times: total: 46.9 ms\n",
      "Wall time: 86.3 ms\n",
      "[[4.57744547 4.55389487 3.79438861 2.15783137 1.13453433]]\n",
      "1.1102230246251565e-15\n"
     ]
    }
   ],
   "source": [
    "#functions\n",
    "f1 = lambda x1, x2, x3, x4, x5: np.cos(x1) + x5 - 1\n",
    "f2 = lambda x1, x2, x3, x4, x5: np.cos(x2) + x4 - 2\n",
    "f3 = lambda x1, x2, x3, x4, x5: np.cos(x3) + x3 - 3\n",
    "f4 = lambda x1, x2, x3, x4, x5: np.cos(x4) + x2 - 4\n",
    "f5 = lambda x1, x2, x3, x4, x5: np.cos(x5) + x1 - 5\n",
    "\n",
    "#domain\n",
    "a = [0]*5\n",
    "b = [2*np.pi]*5\n",
    "\n",
    "#solve\n",
    "%time roots = yr.solve([f1,f2,f3,f4,f5],a,b,verbose=True)\n",
    "print(roots)\n",
    "\n",
    "#maximum residual\n",
    "print(np.max([np.abs(f(*[roots[:,i] for i in range(5)])) for f in [f1,f2,f3,f4,f5]]))\n",
    "\n",
    "# CPU times: total: 46.9 ms\n",
    "# Wall time: 90.7 ms\n",
    "# [[4.57744547 4.55389487 3.79438861 2.15783137 1.13453433]]\n",
    "# 1.1102230246251565e-15"
   ]
  },
  {
   "cell_type": "markdown",
   "metadata": {},
   "source": [
    "In higher dimensions, as the input functions become more complex, the time YRoots needs to find the roots of the system of functions increases as accurate approximation of such functions require manipulating many more values. However, when compared with other existing rootfinders, YRoots accurately solves such systems of equations with great speed relative.\n",
    "\n",
    "As an illustration, the following code calls the solver on a more complicated version of the same system of equations solved above. For each function, an additional variable has been added to the cosine term. Try running the code below and watch the solver find the 49 common roots of this system of equations on the search interval, which should take around just 2-3 minutes on a typical computer. Note the low maximum residual value, which will also be printed:"
   ]
  },
  {
   "cell_type": "code",
   "execution_count": 9,
   "metadata": {},
   "outputs": [
    {
     "name": "stdout",
     "output_type": "stream",
     "text": [
      "Approximation shapes: 0: (50, 1, 1, 50, 2) 1: (1, 50, 1, 2, 50) 2: (50, 1, 50, 1, 1) 3: (1, 50, 1, 50, 1) 4: (2, 1, 50, 1, 87)\n",
      "Searching on interval [[0, 6.283185307179586], [0, 6.283185307179586], [0, 6.283185307179586], [0, 6.283185307179586], [0, 6.283185307179586]]\n",
      "Finding roots... *************************************************\n",
      "Found 49 roots\n",
      "\n",
      "CPU times: total: 1min 3s\n",
      "Wall time: 2min 6s\n",
      "[[5.95617903 3.21250323 2.22453203 1.74914246 1.54582102]\n",
      " [5.99988277 3.22442619 2.04451747 1.73674702 1.54408297]\n",
      " [4.01511593 3.00004825 3.97165144 2.09763587 1.53817437]\n",
      " [4.91121894 3.2535773  3.42813666 2.15495463 1.400553  ]\n",
      " [5.53092835 3.00184035 3.89071562 2.07289746 0.54758359]\n",
      " [5.56130621 3.00387896 3.98524302 2.06235932 0.54369572]\n",
      " [4.39710871 3.33966345 2.59537445 1.627007   0.35589322]\n",
      " [4.51240438 3.39523359 3.17105066 1.57923199 0.33473531]\n",
      " [4.18254226 3.72815455 2.7014153  1.33784667 0.22721903]\n",
      " [4.63980737 4.29935039 2.48614721 2.48678558 0.48360851]\n",
      " [4.65305679 4.6312599  3.04873066 1.84337706 1.66190439]\n",
      " [5.99166773 3.64429236 2.04631416 1.3928795  1.47211591]\n",
      " [5.99459117 3.64534831 2.20501975 1.39216614 1.47193583]\n",
      " [4.92305542 3.95181235 2.37152763 2.79461159 0.62987907]\n",
      " [5.52249869 4.21661065 2.16875106 2.55589947 0.97778635]\n",
      " [4.77947886 4.38110503 2.94674005 2.42052701 0.45760657]\n",
      " [5.04631075 4.03403505 2.75177692 2.71726263 0.58766524]\n",
      " [5.71963241 4.28284258 2.11310125 1.90077919 1.12349992]\n",
      " [5.81164444 4.41658933 2.29886339 1.87558122 1.09521865]\n",
      " [5.67868159 4.30078421 2.36934823 2.48560703 0.97780575]\n",
      " [5.98724633 4.75122034 2.90227578 1.83192738 1.0273704 ]\n",
      " [5.95554051 4.44548033 2.91549743 2.36956703 0.97488812]\n",
      " [5.81205079 3.75001159 2.97689525 2.99952208 0.84600021]\n",
      " [5.89952317 3.80316765 2.93915923 2.94325713 0.91504847]\n",
      " [4.81327772 4.75861657 2.92060639 2.1296919  1.67780694]\n",
      " [5.51319678 4.54535739 2.46098618 1.854815   1.69585822]\n",
      " [5.49351522 4.90716257 2.17739486 2.00912098 0.95844957]\n",
      " [5.65455006 4.96487541 2.38241811 1.95183258 0.95885086]\n",
      " [5.95759647 4.97502386 2.91463635 1.84940019 0.97759611]\n",
      " [4.26333273 3.76253034 3.41684229 1.31617521 0.21735493]\n",
      " [4.30722215 3.78099874 3.79732285 1.30472928 0.21211323]\n",
      " [4.59725989 3.43618608 3.6145361  1.54572113 0.31989937]\n",
      " [4.02596346 4.2840457  3.96631696 1.03275695 1.52655842]\n",
      " [4.24113665 4.35112088 3.83926205 1.0005746  1.45182978]\n",
      " [4.00165653 4.72613736 3.74160842 2.15458975 1.69465956]\n",
      " [4.11301986 4.39429573 3.59086447 2.4100046  1.88345101]\n",
      " [4.05184963 4.77114166 3.95283803 2.12002548 1.67136039]\n",
      " [4.26146417 4.47285525 3.82640151 2.34817479 1.83542828]\n",
      " [4.18861205 4.87879842 3.50020552 2.03374584 1.61673699]\n",
      " [4.91710566 4.45969277 3.42478592 2.35844163 0.43442329]\n",
      " [5.20343925 4.13575347 3.26841715 2.62573686 0.54328   ]\n",
      " [5.79737996 4.3635987  3.87901864 2.43456077 0.97690891]\n",
      " [5.95872377 4.44710499 3.51843286 2.36829311 0.97484017]\n",
      " [5.9073727  3.78172135 3.55670165 2.96574588 0.76131969]\n",
      " [5.94936782 3.79845587 3.80354889 2.94817389 0.7419423 ]\n",
      " [5.99154648 3.85058774 3.49453151 2.89450569 0.93623752]\n",
      " [5.92893783 3.81857263 3.8137347  2.92727495 0.92320408]\n",
      " [5.83555847 4.9996578  3.86018209 1.8903173  0.96452457]\n",
      " [5.95566207 4.97624291 3.520684   1.85006375 0.97722174]]\n",
      "7.993605777301127e-15\n"
     ]
    }
   ],
   "source": [
    "f1 = lambda x1, x2, x3, x4, x5: np.cos(x1*x4) + x5 - 1\n",
    "f2 = lambda x1, x2, x3, x4, x5: np.cos(x2*x5) + x4 - 2\n",
    "f3 = lambda x1, x2, x3, x4, x5: np.cos(x3*x1) + x3 - 3\n",
    "f4 = lambda x1, x2, x3, x4, x5: np.cos(x4*x2) + x2 - 4\n",
    "f5 = lambda x1, x2, x3, x4, x5: np.cos(x5*x3) + x1 - 5\n",
    "\n",
    "a = [0]*5\n",
    "b = [2*np.pi]*5\n",
    "\n",
    "%time roots = yr.solve([f1,f2,f3,f4,f5],a,b,verbose=True)\n",
    "print(roots)\n",
    "\n",
    "#maximum residual\n",
    "print(np.max([np.abs(f(*[roots[:,i] for i in range(5)])) for f in [f1,f2,f3,f4,f5]]))"
   ]
  },
  {
   "cell_type": "markdown",
   "metadata": {},
   "source": [
    "## Example 3: Univariate System\n",
    "\n",
    "The `yr.solve` method can also be used to quickly find the roots of a univariate function. In this case, `a` and `b` can simply be entered as floats, and `funcs` does not need to be a list.\n",
    "\n",
    "As an example, find the zeros of $f(x) = \\sin(e^{3x})$ on $[-1,2]$ using the code below:"
   ]
  },
  {
   "cell_type": "code",
   "execution_count": 11,
   "metadata": {},
   "outputs": [
    {
     "name": "stdout",
     "output_type": "stream",
     "text": [
      "CPU times: total: 141 ms\n",
      "Wall time: 510 ms\n",
      "Number of roots: 128\n",
      "\n",
      "Maximum residual: 6.468437707466133e-13\n"
     ]
    }
   ],
   "source": [
    "f = lambda x : np.sin(np.exp(3*x))\n",
    "%time roots = yr.solve(f, -1, 2,)\n",
    "\n",
    "print(f\"Number of roots: {len(roots)}\")\n",
    "print(f\"\\nMaximum residual: {np.max(np.abs(f(roots)))}\")"
   ]
  },
  {
   "cell_type": "markdown",
   "metadata": {},
   "source": [
    "## Example 4: Using MultiCheb and MultiPower Objects\n",
    "\n",
    "When a function in a system is a polynomial, it may be useful to pass it in as a YRoots `MultiCheb` or `MultiPower` object, which corresponds to a multivariate polynomials in the Chebyshev basis or in the power basis (respectively). These objects may be more cumbersome to create, but they have a special `evaluate_grid` method which allows for faster approximation.\n",
    "\n",
    "Polynomials in $n$-dimensions are represented by an $n$-dimensional array of coefficients. For a system with three variables, the $(i,j,k)$ spot in the coefficient tensor corresponds to the coefficients of $x^iy^jz^k$ in the power basis or $T_i(x)T_j(y)T_k(z)$ in the Chebyshev basis. It is usually easiest to construct this coefficient tensor by initializing a tensor of zeros and then setting each nonzero coefficient to the correct value.\n",
    "\n",
    "For example, $f(x,y) = 5x^3 + 4 xy^2 + 3x^2 + 2y^2 + 1$ could be initialized as \n",
    "\n",
    "```python\n",
    "coeff = np.zeros((4,4)) #4x4 matrix because it's a degree 3 polynomial\n",
    "coeff[3,0] = 5\n",
    "coeff[1,2] = 4\n",
    "coeff[2,0] = 3\n",
    "coeff[0,2] = 2\n",
    "coeff[0,0] = 1\n",
    "f = yr.MultiPower(coeff)\n",
    "```\n",
    "                         \n",
    "Similarly, $g(x,y,z) = 5 T_2(x) + 3T_1(x)T_2(y) + 2$ would be initialized as\n",
    "\n",
    "```python\n",
    "coeff = np.zeros((3,3))\n",
    "coeff[2,0] = 5\n",
    "coeff[1,2] = 3\n",
    "coeff[0,0] = 2\n",
    "g = yr.MultiCheb(coeff)\n",
    "```\n",
    "\n",
    "Try out using these special YRoots objects in the following code:\n"
   ]
  },
  {
   "cell_type": "code",
   "execution_count": 12,
   "metadata": {},
   "outputs": [
    {
     "name": "stdout",
     "output_type": "stream",
     "text": [
      "CPU times: total: 15.6 ms\n",
      "Wall time: 23.1 ms\n",
      "[[-0.69924092 -0.97485404]\n",
      " [-0.69924092  0.97485404]]\n",
      "Maximum residuals: f:  4.440892098500626e-16  g:  1.3322676295501878e-15\n"
     ]
    }
   ],
   "source": [
    "coeff = np.zeros((4,4))\n",
    "coeff[3,0], coeff[1,2], coeff[2,0], coeff[0,2], coeff[0,0] = 5, 4, 3, 2, 1\n",
    "f = yr.MultiPower(coeff)\n",
    "\n",
    "coeff = np.zeros((3,3))\n",
    "coeff[2,0], coeff[1,2], coeff[0,0] = 5, 3, 2\n",
    "g = yr.MultiCheb(coeff)\n",
    "\n",
    "%time roots = yr.solve([f,g],[-1,-1],[1,1])\n",
    "print(roots)\n",
    "print(\"Maximum residuals: f: \", np.max(np.abs(f(roots))), \" g: \", np.max(np.abs(g(roots))))"
   ]
  },
  {
   "cell_type": "markdown",
   "metadata": {},
   "source": [
    "## That's it!\n",
    "\n",
    "This concludes the tutorial on YRoots. Feel free to try out the package using your own system of equations and interval in the space provided immediately below, or check out the documentation for more information."
   ]
  },
  {
   "cell_type": "code",
   "execution_count": null,
   "metadata": {},
   "outputs": [],
   "source": [
    "# Try out YRoots here."
   ]
  },
  {
   "cell_type": "code",
   "execution_count": null,
   "metadata": {},
   "outputs": [],
   "source": [
    "# Good luck and happy rootfinding :)"
   ]
  }
 ],
 "metadata": {
  "kernelspec": {
   "display_name": "Python 3 (ipykernel)",
   "language": "python",
   "name": "python3"
  },
  "language_info": {
   "codemirror_mode": {
    "name": "ipython",
    "version": 3
   },
   "file_extension": ".py",
   "mimetype": "text/x-python",
   "name": "python",
   "nbconvert_exporter": "python",
   "pygments_lexer": "ipython3",
   "version": "3.9.13"
  },
  "varInspector": {
   "cols": {
    "lenName": 16,
    "lenType": 16,
    "lenVar": 40
   },
   "kernels_config": {
    "python": {
     "delete_cmd_postfix": "",
     "delete_cmd_prefix": "del ",
     "library": "var_list.py",
     "varRefreshCmd": "print(var_dic_list())"
    },
    "r": {
     "delete_cmd_postfix": ") ",
     "delete_cmd_prefix": "rm(",
     "library": "var_list.r",
     "varRefreshCmd": "cat(var_dic_list()) "
    }
   },
   "types_to_exclude": [
    "module",
    "function",
    "builtin_function_or_method",
    "instance",
    "_Feature"
   ],
   "window_display": false
  }
 },
 "nbformat": 4,
 "nbformat_minor": 2
}
